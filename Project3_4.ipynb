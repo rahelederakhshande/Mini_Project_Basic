{
 "cells": [
  {
   "cell_type": "code",
   "execution_count": 5,
   "id": "7710ae23",
   "metadata": {},
   "outputs": [
    {
     "name": "stdout",
     "output_type": "stream",
     "text": [
      "1234\n"
     ]
    }
   ],
   "source": [
    "# write code here:\n",
    "str=input(\"Insert Your Text: \")\n",
    "length=len(str)\n",
    "l1=int(length/2)\n",
    "if length % 2==0:\n",
    "    print(str[0:l1])\n",
    "else:\n",
    "    print(str[l1:])\n"
   ]
  },
  {
   "cell_type": "code",
   "execution_count": 56,
   "id": "0d6db2ad",
   "metadata": {},
   "outputs": [
    {
     "name": "stdout",
     "output_type": "stream",
     "text": [
      "242\n",
      "Substring1: Python is a widely-used programming language known for its simplicity. Python supports various programming paradigms. Pyt\n",
      "Substring2: hon's code readability makes it a favorite among developers. Python is ideal for rapidly prototyping Python applications.\n",
      "New String:Java is a widely-used programming language known for its simplicity. Java supports various programming paradigms. Python's code readability makes it a favorite among developers. C++ is ideal for rapidly prototyping C++ applications.\n",
      "Python in first half that replace is: 2\n",
      "Python in second half that replace is: 2\n"
     ]
    }
   ],
   "source": [
    "# write code here:\n",
    "text=\"Python is a widely-used programming language known for its simplicity. Python supports various programming paradigms. Python's code readability makes it a favorite among developers. Python is ideal for rapidly prototyping applications.\"\n",
    "length=len(text)\n",
    "print(length)\n",
    "name=\"Python\"\n",
    "if length % 2 != 0:\n",
    "    sub_str1=text[:(int(length/2))+1]\n",
    "    sub_str2=text[int(length/2):]\n",
    "else:\n",
    "    sub_str1=text[:int(length/2)]\n",
    "    sub_str2=text[int(length/2):]\n",
    "print(f\"Substring1: {sub_str1}\")\n",
    "print(f\"Substring2: {sub_str2}\")\n",
    "new_substr1=sub_str1.replace(\"Python\",\"Java\")\n",
    "new_substr2=sub_str2.replace(\"Python\",\"C++\")\n",
    "print(f\"New String:{new_substr1 + new_substr2}\")\n",
    "print(f\"Python in first half that replace is: {sub_str1.count(name)}\")\n",
    "print(f\"Python in second half that replace is: {sub_str2.count(name)}\")"
   ]
  },
  {
   "cell_type": "code",
   "execution_count": 58,
   "id": "708b411c",
   "metadata": {},
   "outputs": [
    {
     "name": "stdout",
     "output_type": "stream",
     "text": [
      "IamlearningPython\n"
     ]
    }
   ],
   "source": [
    "# write code here:\n",
    "str=input(\"Insert your string: \")\n",
    "str=str.strip()\n",
    "str=str.replace(\" \",\"\")\n",
    "print(str)"
   ]
  },
  {
   "cell_type": "code",
   "execution_count": 60,
   "id": "0f2f0c59",
   "metadata": {},
   "outputs": [
    {
     "name": "stdout",
     "output_type": "stream",
     "text": [
      "java I am learning python java\n"
     ]
    }
   ],
   "source": [
    "# write code here: \n",
    "text=input(\"Insert Your Text: \")\n",
    "str=input(\"Insert Your String: \")\n",
    "\n",
    "if text.find(str) != -1:\n",
    "    print(text.replace(str,\"\"))\n",
    "else:\n",
    "    print(str + \" \" + text + \" \"+ str)"
   ]
  },
  {
   "cell_type": "code",
   "execution_count": 63,
   "id": "3cf76a64",
   "metadata": {},
   "outputs": [
    {
     "name": "stdout",
     "output_type": "stream",
     "text": [
      "Invalid\n"
     ]
    }
   ],
   "source": [
    "# write code here: \n",
    "password=input(\"Please Enter Your Password: \")\n",
    "#correct_pass=\"abcd1234\"\n",
    "l1=len(password)\n",
    "alpha=password[0:4]\n",
    "digit=password[4:8]\n",
    "#is_alpha=alpha.isdigit\n",
    "if l1==8 and alpha.isalpha() and digit.isdigit() :\n",
    "    print(\"Valid\")\n",
    "else:\n",
    "    print(\"Invalid\")\n"
   ]
  },
  {
   "cell_type": "code",
   "execution_count": 64,
   "id": "07821aac",
   "metadata": {},
   "outputs": [
    {
     "name": "stdout",
     "output_type": "stream",
     "text": [
      "Count of string: 4\n",
      "Count of number: 6\n"
     ]
    }
   ],
   "source": [
    "# write here\n",
    "\n",
    "string1=input(\"Insert Your Text: \")  \n",
    "count_str=0\n",
    "count_num=0\n",
    "for i in string1:\n",
    "    if i.isalpha():\n",
    "        count_str +=1\n",
    "    elif  i.isdigit():\n",
    "        count_num +=1\n",
    "    \n",
    "print(f\"Count of string: {count_str}\")\n",
    "print(f\"Count of number: {count_num}\")"
   ]
  },
  {
   "cell_type": "code",
   "execution_count": 67,
   "id": "ba0c7fe3",
   "metadata": {},
   "outputs": [
    {
     "name": "stdout",
     "output_type": "stream",
     "text": [
      "asdfgghjk\n",
      "asdrtyu\n",
      "sdcvbnmkj\n"
     ]
    }
   ],
   "source": [
    "# write here:\n",
    "\n",
    "for i in range(5):\n",
    "    str1=input(\"Insert Strings: \")\n",
    "    if len(str1) > 6:\n",
    "        print(str1)"
   ]
  },
  {
   "cell_type": "code",
   "execution_count": 4,
   "id": "a195052b",
   "metadata": {},
   "outputs": [
    {
     "name": "stdout",
     "output_type": "stream",
     "text": [
      "out of range\n",
      "Top Student :Jara with score: 0\n",
      "Worst Student :Tara with score: 20\n",
      "The average of class : 10.0\n"
     ]
    }
   ],
   "source": [
    "max_score =  sum_score= 0\n",
    "min_score = 20 \n",
    "for i in range(10):\n",
    "    score=float(input(f\"Insert score{i+1}: \"))\n",
    "    name=input(f\"Insert Name{i+1}: \")\n",
    "    sum_score += score\n",
    "    if score < 0 or score > 20:\n",
    "        print(\"out of range\")  \n",
    "        break\n",
    "    elif score >= 17:\n",
    "        print(f\" {name.upper()}, level ==> A+ , score is:{score}\")\n",
    "    elif score >= 15:\n",
    "        print(f\" {name.upper()} , level ==> A , score is:{score}\")\n",
    "    elif score >= 10:\n",
    "        print(f\" {name.upper()} , level ==> B , score is:{score}\")\n",
    "    else:\n",
    "        print(f\" {name.upper()} , level ==> C , score is:{score}\")\n",
    "    if score > max_score:\n",
    "        max_score = score\n",
    "        max_name = name\n",
    "    if score < min_score:\n",
    "        min_score= score\n",
    "        min_name = name \n",
    "avg=sum_score / 10      \n",
    "print(f\"Top Student :{max_name.title()} with score: {max_score}\")\n",
    "print(f\"Worst Student :{min_name.title()} with score: {min_score}\")\n",
    "print(f\"The average of class : {avg}\")\n"
   ]
  },
  {
   "cell_type": "code",
   "execution_count": 1,
   "id": "0048509d",
   "metadata": {},
   "outputs": [
    {
     "name": "stdout",
     "output_type": "stream",
     "text": [
      "1 * 5 = 5\n",
      "2 + 5 = 7\n",
      "3 * 5 = 15\n",
      "4 + 5 = 9\n",
      "5 * 5 = 25\n",
      "6 + 5 = 11\n",
      "7 * 5 = 35\n",
      "8 + 5 = 13\n",
      "9 * 5 = 45\n",
      "10 + 5 = 15\n"
     ]
    }
   ],
   "source": [
    "# write here:\n",
    "sum=0\n",
    "mul=0\n",
    "for i in range(1,11):\n",
    "  if i % 2 == 0 :\n",
    "    sum=i+5\n",
    "    print(f\"{i} + 5 = {sum}\" )\n",
    "  else:\n",
    "    mul=i*5\n",
    "    print(f\"{i} * 5 = {mul}\" )"
   ]
  }
 ],
 "metadata": {
  "kernelspec": {
   "display_name": "Python 3 (ipykernel)",
   "language": "python",
   "name": "python3"
  },
  "language_info": {
   "codemirror_mode": {
    "name": "ipython",
    "version": 3
   },
   "file_extension": ".py",
   "mimetype": "text/x-python",
   "name": "python",
   "nbconvert_exporter": "python",
   "pygments_lexer": "ipython3",
   "version": "3.12.0"
  }
 },
 "nbformat": 4,
 "nbformat_minor": 5
}
