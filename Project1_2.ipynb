{
 "cells": [
  {
   "cell_type": "code",
   "execution_count": 1,
   "id": "7710ae23",
   "metadata": {},
   "outputs": [
    {
     "name": "stdout",
     "output_type": "stream",
     "text": [
      "12\n"
     ]
    }
   ],
   "source": [
    "# convert to int:\n",
    " #1\n",
    "num1=12.45\n",
    "num1=int(num1)\n",
    "print(num1)"
   ]
  },
  {
   "cell_type": "code",
   "execution_count": 2,
   "id": "a1a203ef",
   "metadata": {},
   "outputs": [
    {
     "name": "stdout",
     "output_type": "stream",
     "text": [
      "12\n"
     ]
    }
   ],
   "source": [
    "#2\n",
    "num2=\"12.45\"\n",
    "num2=float(num2)\n",
    "num2=int(num2)\n",
    "print(num2)"
   ]
  },
  {
   "cell_type": "code",
   "execution_count": 3,
   "id": "7d78993d",
   "metadata": {},
   "outputs": [
    {
     "name": "stdout",
     "output_type": "stream",
     "text": [
      "1\n"
     ]
    }
   ],
   "source": [
    "#3\n",
    "flag1=True\n",
    "flag1=int(True)\n",
    "print(flag1)"
   ]
  },
  {
   "cell_type": "code",
   "execution_count": 5,
   "id": "55ac6ef4",
   "metadata": {},
   "outputs": [
    {
     "name": "stdout",
     "output_type": "stream",
     "text": [
      "123\n"
     ]
    }
   ],
   "source": [
    "#5\n",
    "num3=\"0123\"\n",
    "num3=int(num3)\n",
    "print(num3)"
   ]
  },
  {
   "cell_type": "code",
   "execution_count": 6,
   "id": "00aa9b86",
   "metadata": {},
   "outputs": [
    {
     "name": "stdout",
     "output_type": "stream",
     "text": [
      "10.0\n"
     ]
    }
   ],
   "source": [
    "# convert to float: \n",
    "#1\n",
    "num4=10\n",
    "num4=float(num4)\n",
    "print(num4)"
   ]
  },
  {
   "cell_type": "code",
   "execution_count": 7,
   "id": "2aff9e6b",
   "metadata": {},
   "outputs": [
    {
     "name": "stdout",
     "output_type": "stream",
     "text": [
      "4.0\n"
     ]
    }
   ],
   "source": [
    "#2\n",
    "num5=4.\n",
    "num5=float(num5)\n",
    "print(num5)"
   ]
  },
  {
   "cell_type": "code",
   "execution_count": 8,
   "id": "2069ec10",
   "metadata": {},
   "outputs": [
    {
     "name": "stdout",
     "output_type": "stream",
     "text": [
      "4.7\n"
     ]
    }
   ],
   "source": [
    "#3\n",
    "num6=\"4.7\"\n",
    "num6=float(num6)\n",
    "print(num6)"
   ]
  },
  {
   "cell_type": "code",
   "execution_count": 9,
   "id": "493efe71",
   "metadata": {},
   "outputs": [
    {
     "name": "stdout",
     "output_type": "stream",
     "text": [
      "51.0\n"
     ]
    }
   ],
   "source": [
    "#4\n",
    "num7=\"51\"\n",
    "num7=float(num7)\n",
    "print(num7)"
   ]
  },
  {
   "cell_type": "code",
   "execution_count": 11,
   "id": "d35d676a",
   "metadata": {},
   "outputs": [
    {
     "name": "stdout",
     "output_type": "stream",
     "text": [
      "False\n"
     ]
    }
   ],
   "source": [
    "# Convert to bool\n",
    "flag3=False\n",
    "flag3=bool(flag3)\n",
    "print(flag3)"
   ]
  },
  {
   "cell_type": "code",
   "execution_count": 12,
   "id": "c1f18233",
   "metadata": {},
   "outputs": [
    {
     "name": "stdout",
     "output_type": "stream",
     "text": [
      "True\n"
     ]
    }
   ],
   "source": [
    "#2\n",
    "flag4=\"False\"\n",
    "flag4=bool(flag4)\n",
    "print(flag4)"
   ]
  },
  {
   "cell_type": "code",
   "execution_count": 7,
   "id": "708b411c",
   "metadata": {},
   "outputs": [
    {
     "name": "stdout",
     "output_type": "stream",
     "text": [
      "True\n"
     ]
    }
   ],
   "source": [
    "# write code here:\n",
    "str=input(\"Insert Your answer:\")\n",
    "print(str==\"yes\" or str==\"no\")"
   ]
  },
  {
   "cell_type": "code",
   "execution_count": 10,
   "id": "c98a1cd3",
   "metadata": {},
   "outputs": [
    {
     "name": "stdout",
     "output_type": "stream",
     "text": [
      "True\n"
     ]
    }
   ],
   "source": [
    "# write code here: \n",
    "str=input(\"Insert Your answer:\")\n",
    "print(str!=\"\" and str!=\" \")"
   ]
  },
  {
   "cell_type": "code",
   "execution_count": 11,
   "id": "3cf76a64",
   "metadata": {},
   "outputs": [
    {
     "name": "stdout",
     "output_type": "stream",
     "text": [
      "73.4\n"
     ]
    }
   ],
   "source": [
    "# write code here: \n",
    "celsius=float(input(\"Insert Temperature:\"))\n",
    "fahrenheit=(celsius*1.8)+32\n",
    "print(fahrenheit)"
   ]
  },
  {
   "cell_type": "code",
   "execution_count": 12,
   "id": "623d8c84",
   "metadata": {},
   "outputs": [
    {
     "name": "stdout",
     "output_type": "stream",
     "text": [
      "17 1.8 28\n"
     ]
    }
   ],
   "source": [
    "# Section 1:  \n",
    "num1,num2,num3=17,1.8,28\n",
    "print(num1,num2,num3)"
   ]
  },
  {
   "cell_type": "code",
   "execution_count": null,
   "id": "d440ea9e",
   "metadata": {},
   "outputs": [],
   "source": [
    "num4,num5=45,12\n",
    "print(num4,num5)"
   ]
  },
  {
   "cell_type": "code",
   "execution_count": 15,
   "id": "d1381def",
   "metadata": {},
   "outputs": [
    {
     "name": "stdout",
     "output_type": "stream",
     "text": [
      "200 300 400\n"
     ]
    }
   ],
   "source": [
    "num6,num7,num8=200,300,400\n",
    "print(num6,num7,num8)"
   ]
  },
  {
   "cell_type": "code",
   "execution_count": 16,
   "id": "6d48cd3f",
   "metadata": {},
   "outputs": [
    {
     "name": "stdout",
     "output_type": "stream",
     "text": [
      "Sara 19 True\n"
     ]
    }
   ],
   "source": [
    "name,score,passed=\"Sara\",19,True\n",
    "print(name,score,passed)"
   ]
  },
  {
   "cell_type": "code",
   "execution_count": 18,
   "id": "4c8102d7",
   "metadata": {},
   "outputs": [
    {
     "name": "stdout",
     "output_type": "stream",
     "text": [
      "30 20\n"
     ]
    }
   ],
   "source": [
    "# Section 2:\n",
    "num1=20\n",
    "num2=30\n",
    "num1,num2=num2,num1   #num1,num2=30,20\n",
    "print(num1,num2)"
   ]
  },
  {
   "cell_type": "code",
   "execution_count": 19,
   "id": "e3856ce6",
   "metadata": {},
   "outputs": [
    {
     "name": "stdout",
     "output_type": "stream",
     "text": [
      "Consonant\n"
     ]
    }
   ],
   "source": [
    "# Write here:\n",
    "letter=input(\"Just Insert a letter: \")\n",
    "v1,v2,v3,v4,v5=\"a\",\"e\",\"i\",\"o\",\"u\"\n",
    "#print(v1,v2,v3,v4,v5)\n",
    "if letter==v1 or letter==v2 or letter==v3 or letter==v4 or letter==v5:\n",
    "    print(\"Vowel\")\n",
    "else:\n",
    "    print(\"Consonant\")"
   ]
  },
  {
   "cell_type": "code",
   "execution_count": 28,
   "id": "ba0c7fe3",
   "metadata": {},
   "outputs": [
    {
     "name": "stdout",
     "output_type": "stream",
     "text": [
      "Range\n"
     ]
    }
   ],
   "source": [
    "# write here:\n",
    "number=int(input(\"Insert Your Number: \"))\n",
    "if number>=10 and number<=20:\n",
    "    print(\"Range\")\n",
    "else:\n",
    "    print(\"Out Of Range!\")"
   ]
  },
  {
   "cell_type": "code",
   "execution_count": 32,
   "id": "b19324a8",
   "metadata": {},
   "outputs": [
    {
     "name": "stdout",
     "output_type": "stream",
     "text": [
      "Not Greater\n"
     ]
    }
   ],
   "source": [
    "# write here:\n",
    "number1=int(input(\"Insert Your Number: \"))\n",
    "number2=int(input(\"Insert Your Number: \"))\n",
    "sum=number1+number2\n",
    "if sum>20:\n",
    "    print(\"Greater\")\n",
    "else:\n",
    "    print(\"Not Greater\")\n"
   ]
  },
  {
   "cell_type": "code",
   "execution_count": 48,
   "id": "0048509d",
   "metadata": {},
   "outputs": [
    {
     "name": "stdout",
     "output_type": "stream",
     "text": [
      "No colors match\n"
     ]
    }
   ],
   "source": [
    "# write here:\n",
    "color1=input(\"Inser Color1: \")\n",
    "color2=input(\"Insert Color2: \")\n",
    "color3=input(\"Insert Color3:\")\n",
    "if color1==color2 and color1==color3:\n",
    "    print(\"All colors match\")\n",
    "elif color1==color3 or color1==color2:\n",
    "    print(\"Two colors match\")\n",
    "elif color1==color3 or color2==color3:\n",
    "    print(\"Two colors match\")\n",
    "elif color2==color3 or color1==color2:\n",
    "    print(\"Two colors match\")\n",
    "else:\n",
    "    print(\"No colors match\")"
   ]
  },
  {
   "cell_type": "code",
   "execution_count": 138,
   "id": "e7c180f5",
   "metadata": {},
   "outputs": [
    {
     "name": "stdout",
     "output_type": "stream",
     "text": [
      "Cannot divide by zero\n"
     ]
    }
   ],
   "source": [
    "# write here:\n",
    "num1=0\n",
    "num2=76\n",
    "typ1=type(num1)\n",
    "typ2=type(num2)\n",
    "if typ1==type(\" \") and typ2==type(\" \"):\n",
    "    print(num1+num2)\n",
    "elif typ1==type(2) and typ2==type(2.5) and num1 !=0:\n",
    "    print(num2/num1)\n",
    "elif typ1==type(2.5) and typ2==type(2) and num2 !=0:\n",
    "    print(num1/num2)\n",
    "elif  typ1==type(2.5) and num2 ==0:\n",
    "    print(\"Cannot divide by zero\") \n",
    "elif  typ1==type(2) and num2 ==0:\n",
    "    print(\"Cannot divide by zero\")\n",
    "elif  typ2==type(2) and num1 ==0:\n",
    "    print(\"Cannot divide by zero\")   \n",
    "elif  typ2==type(2.5) and num1 ==0:\n",
    "    print(\"Cannot divide by zero\")\n",
    "elif typ1==type(2) and typ2==type(2):\n",
    "    print(num2-num1)\n",
    "else:\n",
    "    print(\"Invalid Syntax\")\n"
   ]
  }
 ],
 "metadata": {
  "kernelspec": {
   "display_name": "Python 3 (ipykernel)",
   "language": "python",
   "name": "python3"
  },
  "language_info": {
   "codemirror_mode": {
    "name": "ipython",
    "version": 3
   },
   "file_extension": ".py",
   "mimetype": "text/x-python",
   "name": "python",
   "nbconvert_exporter": "python",
   "pygments_lexer": "ipython3",
   "version": "3.9.12"
  }
 },
 "nbformat": 4,
 "nbformat_minor": 5
}
