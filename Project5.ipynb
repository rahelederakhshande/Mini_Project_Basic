{
 "cells": [
  {
   "cell_type": "markdown",
   "id": "ead54e1a",
   "metadata": {},
   "source": [
    "<div style=\"color: white;padding-top:18px;text-align:center;background-color:#610C9F;border-radius:15px;border: 1px solid white;\"> \n",
    "    <h3>Exercise 5 (score:200)</h3>\n",
    "</div>"
   ]
  },
  {
   "cell_type": "markdown",
   "id": "9986a78d",
   "metadata": {},
   "source": [
    "<div style=\"color: white;padding-top:18px;text-align:left;background-color:#940B92;border-radius:15px;border: 1px solid white;\"> \n",
    "    <h4>Question 01 (List):</h4>\n",
    "    <p>Create a Python program that first prompts the user to enter 10 numbers, which are then \n",
    "stored in a list. Subsequently, request the user to input a new number. If this new number \n",
    "is present in the list, remove all occurrences of it. if it's not found, insert the number twice \n",
    "at the beginning of the list. Finally, display the modified list to the user\n",
    "</p>\n",
    "</div>"
   ]
  },
  {
   "cell_type": "code",
   "execution_count": 2,
   "id": "da4f6e8a",
   "metadata": {},
   "outputs": [
    {
     "name": "stdout",
     "output_type": "stream",
     "text": [
      "[11, 11, 20, 20, 20, 12, 15, 18, 19, 14, 17, 13]\n"
     ]
    }
   ],
   "source": [
    "# write code here:\n",
    "list_number=[]\n",
    "for i in range(10):\n",
    "    num=int(input(f\"Insert Number{i+1}\"))\n",
    "    list_number.append(num)\n",
    "new_num=int(input(\"Insert Number: \"))\n",
    "if new_num in list_number:\n",
    "    count=list_number.count(new_num)\n",
    "    for i in range(count):\n",
    "        list_number.remove(new_num)\n",
    "else:\n",
    "    for i in range(2):\n",
    "        list_number.insert(i,new_num)\n",
    "print(list_number)"
   ]
  },
  {
   "cell_type": "markdown",
   "id": "488e01d2",
   "metadata": {},
   "source": [
    "<div style=\"color: white;padding-top:18px;text-align:left;background-color:#940B92;border-radius:15px;border: 1px solid white;\"> \n",
    "    <h4>Question 02 (List)</h4>\n",
    "<p>\n",
    " Create a Python program that sorts elements from a list containing multiple data types—\n",
    "such as integers, floats, strings, and booleans—into lists of specific types. The program \n",
    "must iterate through the original mixed list, identifying the type of each element and \n",
    "adding it to the corresponding list assigned to that particular data type.\n",
    "\n",
    "</p>\n",
    "\n",
    "</div>"
   ]
  },
  {
   "cell_type": "code",
   "execution_count": 3,
   "id": "0d6db2ad",
   "metadata": {},
   "outputs": [
    {
     "name": "stdout",
     "output_type": "stream",
     "text": [
      "String list: ['Sara', 'Mina', 'Tara']\n",
      "Integer list: [15, 44, 19] \n",
      "Boolean list: [True, False, False, True] \n",
      "Float list: [18.6, 15.75, 17.25] \n"
     ]
    }
   ],
   "source": [
    "# write code here:\n",
    "\n",
    "list=[18.6,15,\"Sara\",\"Mina\", 15.75,44,17.25,True,\"Tara\",False,False,19,True]\n",
    "str1=[]\n",
    "int1=[]\n",
    "bool1=[]\n",
    "float1=[]\n",
    "for i in list:\n",
    "    if type(i) == str:\n",
    "        str1.append(i)    \n",
    "    if type(i) == int:\n",
    "        int1.append(i)\n",
    "    if type(i) == bool:\n",
    "        bool1.append(i)\n",
    "    if type(i) == float:\n",
    "        float1.append(i)\n",
    "#print(f\"String list: {str1}\")\n",
    "#print(f\"Integer list: {int1}\")\n",
    "#print(f\"Boolean list: {bool1}\")\n",
    "#print(f\"Float list: {float1}\")\n",
    "    \n",
    "print(f\"String list: {str1}\\nInteger list: {int1} \\nBoolean list: {bool1} \\nFloat list: {float1} \")"
   ]
  },
  {
   "cell_type": "markdown",
   "id": "0e2c870c",
   "metadata": {},
   "source": [
    "<div style=\"color: white;padding-top:18px;text-align:center;background-color:#610C9F;border-radius:15px;border: 1px solid white;\"> \n",
    "    <h3>Exercise 6 (score:500)</h3>\n",
    "</div>"
   ]
  },
  {
   "cell_type": "markdown",
   "id": "98cda4ff",
   "metadata": {},
   "source": [
    "<div style=\"color: white;padding-top:18px;text-align:left;background-color:#940B92;border-radius:15px;border: 1px solid white;\"> \n",
    "    <h4>Question 01 (Project)</h4>\n",
    "<p>\n",
    "Create a Python program that allows a user to manage tasks, track the time spent on them, \n",
    "and mark them as done or undone.\n",
    "<ul>\n",
    "<li>A task has a name, a status (True, False), and a duration (in hours).</li>\n",
    "<li>The data will be stored across three lists: one for task names, one for task statuses, and \n",
    "one for task durations.</li>\n",
    "</ul> \n",
    "</p>\n",
    "\n",
    "</div>"
   ]
  },
  {
   "cell_type": "code",
   "execution_count": null,
   "id": "e3856ce6",
   "metadata": {},
   "outputs": [],
   "source": [
    "# you can write this project in (.py) file.\n",
    "# 1. Click on File and NewFile\n",
    "# 2. Select python File in pup-up tab on the top of display"
   ]
  },
  {
   "cell_type": "markdown",
   "id": "8d033d86",
   "metadata": {},
   "source": [
    "<h2 style=\"color: blue:; background-color: #E95793; margin-left:50px\">Good luck</h2>"
   ]
  }
 ],
 "metadata": {
  "kernelspec": {
   "display_name": "Python 3 (ipykernel)",
   "language": "python",
   "name": "python3"
  },
  "language_info": {
   "codemirror_mode": {
    "name": "ipython",
    "version": 3
   },
   "file_extension": ".py",
   "mimetype": "text/x-python",
   "name": "python",
   "nbconvert_exporter": "python",
   "pygments_lexer": "ipython3",
   "version": "3.12.0"
  }
 },
 "nbformat": 4,
 "nbformat_minor": 5
}
