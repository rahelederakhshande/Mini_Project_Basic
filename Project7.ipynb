{
 "cells": [
  {
   "cell_type": "markdown",
   "id": "ead54e1a",
   "metadata": {},
   "source": [
    "<div style=\"color: white;padding-top:18px;text-align:center;background-color:#610C9F;border-radius:15px;border: 1px solid white;\"> \n",
    "    <h3>Exercise 7 (score:350)</h3>\n",
    "</div>"
   ]
  },
  {
   "cell_type": "markdown",
   "id": "9986a78d",
   "metadata": {},
   "source": [
    "<div style=\"color: white;padding-top:18px;text-align:left;background-color:#940B92;border-radius:15px;border: 1px solid white;\"> \n",
    "    <h4>Question 01 (Function):</h4>\n",
    "    <p>define two lists that one of them is strings and another is float, change values of \n",
    "both of them to int and create a list that is sum of them. use map function and \n",
    "lambda.\n",
    "</p>\n",
    "</div>"
   ]
  },
  {
   "cell_type": "code",
   "execution_count": 8,
   "id": "7710ae23",
   "metadata": {},
   "outputs": [
    {
     "name": "stdout",
     "output_type": "stream",
     "text": [
      " Sum= [32, 29, 32, 31]\n"
     ]
    }
   ],
   "source": [
    "# write code here:\n",
    "\n",
    "sum_numbers= lambda  num1,num2 : num1+num2\n",
    "\n",
    "list1=[\"14\",\"17\",\"16\",\"12\"]\n",
    "list2=[18.5,12.75,16.25,19.05]\n",
    "int_list1= list(map(int,list1))\n",
    "int_list2 = list(map(int,list2))\n",
    "list3 =list(map(sum_numbers,int_list1,int_list2))\n",
    "print(f\" Sum= {list3}\")\n"
   ]
  },
  {
   "cell_type": "markdown",
   "id": "488e01d2",
   "metadata": {},
   "source": [
    "<div style=\"color: white;padding-top:18px;text-align:left;background-color:#940B92;border-radius:15px;border: 1px solid white;\"> \n",
    "    <h4>Question 02 (Function)</h4>\n",
    "<p>\n",
    " Write a Python program where users input two numbers and choose an \n",
    "operation (+, -, *, /, **). Use lambda functions for calculations. If division is \n",
    "chosen and the second number is zero, replace it with one, notify the user, and \n",
    "proceed. The program should handle invalid operations gracefully. This program \n",
    "should be repeated until user write “exit”.\n",
    "\n",
    "</p>\n",
    "\n",
    "</div>"
   ]
  },
  {
   "cell_type": "code",
   "execution_count": 70,
   "id": "0d6db2ad",
   "metadata": {},
   "outputs": [
    {
     "name": "stdout",
     "output_type": "stream",
     "text": [
      "The result of this operation is: 6\n",
      "The result of this operation is: 3\n",
      "The result of this operation is: 9\n",
      "The result of this operation is: 9\n",
      "The result of this operation is: 2\n",
      "The result of this operation is: 5\n",
      "The result of this operation is: 9\n"
     ]
    }
   ],
   "source": [
    "# write code here:\n",
    "\n",
    "sum_num = lambda num1,num2 : num1+num2\n",
    "multi_num= lambda num1,num2: num1* num2\n",
    "power_num = lambda num1,num2 : num1 ** num2\n",
    "\n",
    "def minus_num(num1,num2):\n",
    "    if num1 >= num2:\n",
    "        res= num1 - num2 \n",
    "    else: \n",
    "        res = num2 - num1\n",
    "    return res\n",
    "\n",
    "def division_num(num1,num2):\n",
    "    if num1 != 0 and num2 != 0:\n",
    "        if num1 > num2:\n",
    "            res= num1/num2\n",
    "        else:\n",
    "            res=num2/num1\n",
    "    elif  num2 == 0:\n",
    "        res = num1/1\n",
    "    return int(res) \n",
    "\n",
    "while True :\n",
    "    num1=int(input(\"Insert number1: \"))\n",
    "    num2=int(input(\"Insert number2: \"))\n",
    "    operation=input(\"Insert the + , - , * , / , ** : \")\n",
    "\n",
    "    if operation == \"+\":\n",
    "        res= sum_num(num1,num2)    \n",
    "    elif operation == \"-\":\n",
    "        res=minus_num(num1,num2)\n",
    "    elif operation == \"*\":\n",
    "        res=multi_num(num1,num2)\n",
    "    elif operation == \"/\":\n",
    "        res=division_num(num1,num2)\n",
    "    elif operation == \"**\":\n",
    "        res=power_num (num1,num2)\n",
    "    elif  operation == \"exit\" :\n",
    "        break\n",
    "    else:\n",
    "        print(\"Operation Not Found, Please Try Again Later!\")\n",
    "    print(f\"The result of this operation is: {res}\")"
   ]
  },
  {
   "cell_type": "markdown",
   "id": "021be85c",
   "metadata": {},
   "source": [
    "<div style=\"color: white;padding-top:18px;text-align:left;background-color:#940B92;border-radius:15px;border: 1px solid white;\"> \n",
    "    <h4>Question 03 (Function)</h4>\n",
    "<p>\n",
    " Write question of exercise 6 by function.\n",
    "\n",
    "</p>\n",
    "\n",
    "</div>"
   ]
  },
  {
   "cell_type": "code",
   "execution_count": null,
   "id": "32b3c29d",
   "metadata": {},
   "outputs": [],
   "source": [
    "# write code here:\n"
   ]
  },
  {
   "cell_type": "markdown",
   "id": "0e2c870c",
   "metadata": {},
   "source": [
    "<div style=\"color: white;padding-top:18px;text-align:center;background-color:#610C9F;border-radius:15px;border: 1px solid white;\"> \n",
    "    <h3>Exercise 8 (score:200)</h3>\n",
    "</div>"
   ]
  },
  {
   "cell_type": "markdown",
   "id": "98cda4ff",
   "metadata": {},
   "source": [
    "<div style=\"color: white;padding-top:18px;text-align:left;background-color:#940B92;border-radius:15px;border: 1px solid white;\"> \n",
    "    <h4>Question 01 (Dictionary)</h4>\n",
    "<p>\n",
    "Below list is information of a product, change this list to dictionary and \n",
    "answer to questions?\n",
    "<p style= \"margin-left: 30px\"> product = ['Apple iPhone', 999.99, 'Space Gray', 'July 2021']</p>\n",
    "</p>\n",
    "<ol>\n",
    "<li>\n",
    "What is the name of the product?\n",
    "</li>\n",
    "<li>\n",
    "What is the price of the product? \n",
    "</li>\n",
    "<li>\n",
    "What is the color of the product?</li>\n",
    "<li>\n",
    "When was the product released?\n",
    "</li>\n",
    "<li>\n",
    "Can you change the color of the product to 'Silver'?\n",
    "</li>\n",
    "<li>\n",
    "Create a list with 4 products buy this structure.\n",
    "</li>\n",
    "</ol>\n",
    "</div>"
   ]
  },
  {
   "cell_type": "code",
   "execution_count": 63,
   "id": "e3856ce6",
   "metadata": {},
   "outputs": [
    {
     "name": "stdout",
     "output_type": "stream",
     "text": [
      "My dictionary is: {'Name': 'Apple iPhone', 'Price': 999.99, 'Color': 'Space Gray', 'Time': 'July 2021'}\n",
      "\n",
      "Name of product is: Apple iPhone\n",
      "Price of Product is: 999.99\n",
      "Color of Product is: Space Gray\n",
      "Released Time was: July 2021\n",
      "\n",
      " ^^^^^ Ok The Color is Changed and The New Dictionary Is: {'Name': 'Apple iPhone', 'Price': 999.99, 'Color': 'Silver', 'Time': 'July 2021'}\n",
      "\n",
      " List Of Buy Product>>>>>> [{'Name': 'dsfg', 'Price': '3245', 'Color': 'dsfg', 'Time': '3456'}, {'Name': 'dsfg', 'Price': '3245', 'Color': 'dsfg', 'Time': '3456'}]\n"
     ]
    }
   ],
   "source": [
    "buy_products=[]\n",
    "product_keys=[\"Name\",\"Price\",\"Color\",\"Time\"]\n",
    "product_values = [\"Apple iPhone\",999.99,\"Space Gray\",\"July 2021\"]\n",
    "product_dictionary = dict(zip(product_keys,product_values))\n",
    "\n",
    "print(f\"My dictionary is: {product_dictionary}\")\n",
    "print(f\"\\nName of product is: {product_dictionary[\"Name\"]}\\nPrice of Product is: {product_dictionary[\"Price\"]}\")\n",
    "print(f\"Color of Product is: {product_dictionary[\"Color\"]}\\nReleased Time was: {product_dictionary[\"Time\"]}\")\n",
    "\n",
    "answer= input(\"Do you want to change the color? yes or no?\")\n",
    "if answer == \"yes\":\n",
    "    product_dictionary[\"Color\"] = \"Silver\"\n",
    "    print(f\"\\n ^^^^^ Ok The Color is Changed and The New Dictionary Is: {product_dictionary}\")\n",
    "else:\n",
    "    print(\"\\n<><><><><><> Ok The Color is not Changed!<><><><><>\")\n",
    "\n",
    "\n",
    "for i in range(4):\n",
    "    \n",
    "    buy_product_name = input(\"Insert 'NAME' of Product that you buy: \")\n",
    "    if buy_product_name not in product_dictionary.values():\n",
    "        buy_product_price = input(\"Insert 'PRICE' of Product that you buy: \")\n",
    "        buy_product_color = input(\"Insert 'COLOR' of Product that you buy: \")\n",
    "        buy_product_time = input(\"Insert 'RELEASED TIME' of Product that you buy: \")\n",
    "        \n",
    "    \n",
    "        product_dictionary[\"Name\"]=buy_product_name\n",
    "        product_dictionary[\"Price\"]=buy_product_price\n",
    "        product_dictionary[\"Color\"]=buy_product_color\n",
    "        product_dictionary[\"Time\"]=buy_product_time\n",
    "        buy_products.append(product_dictionary)\n",
    "        \n",
    "    else:\n",
    "        print(f\"{buy_product_name} already exists!\")\n",
    "        \n",
    "print(f\"\\n List Of Buy Product>>>>>> {buy_products}\")\n",
    "\n",
    "\n",
    "\n",
    "\n"
   ]
  },
  {
   "cell_type": "markdown",
   "id": "e53e31ab",
   "metadata": {},
   "source": [
    "<div style=\"color: white;padding-top:18px;text-align:left;background-color:#940B92;border-radius:15px;border: 1px solid white;\"> \n",
    "    <h4>Question 02 (Dictionary)</h4>\n",
    "<p>\n",
    "create a dictionary named `student_grades` containing three students' names \n",
    "as keys and their grades as values. Perform the following:\n",
    "</p>\n",
    "<ul>\n",
    "<li>\n",
    "add two new students with their grades to `student_grades`, names are unique.\n",
    "</li>\n",
    "<li>\n",
    "Delete any students from `student_grades` who have grades below 10. \n",
    "</li>\n",
    "<li>\n",
    "Get a name from the user If the user's name is in the dictionary of students, get \n",
    "a new grade and change the student's grade.</li>\n",
    "<li>\n",
    "Show the average scores of all students.\n",
    "</li>\n",
    "</ul>\n",
    "</div>"
   ]
  },
  {
   "cell_type": "code",
   "execution_count": 135,
   "metadata": {},
   "outputs": [
    {
     "name": "stdout",
     "output_type": "stream",
     "text": [
      "{'sara': 18, 'tara': 17, 'mina': 9, 'baran': 7, 'ana': 19}\n",
      "\n",
      "Grade successfully changed {'sara': 18, 'tara': 17, 'mina': 9, 'baran': 19.5, 'ana': 19}\n",
      "\n",
      "Students With grade More Than 10>>>>>>>> {'sara': 18, 'tara': 17, 'baran': 19.5, 'ana': 19}\n",
      "The Average is: 18.375\n"
     ]
    }
   ],
   "source": [
    "student_grade={\n",
    "    \"sara\":18,\n",
    "    \"tara\": 17,\n",
    "    \"mina\":9\n",
    "}\n",
    "student_grade.update({\"baran\":7,\"ana\":19})\n",
    "print(student_grade)\n",
    "\n",
    "def remove():\n",
    "    remove_student = []\n",
    "    for name,score in student_grade.items():\n",
    "        if score < 10:\n",
    "            remove_student.append(name)\n",
    "    for name in remove_student:\n",
    "                del student_grade[name]\n",
    "    print(f\"\\nStudents With grade More Than 10>>>>>>>> {student_grade}\")\n",
    "\n",
    "def edit(str):\n",
    "    \n",
    "    if str in student_grade.keys():\n",
    "        new_grade=float(input(\"New Grade: \"))\n",
    "        student_grade[str]=new_grade\n",
    "        print(f\"\\nGrade successfully changed {student_grade}\")\n",
    "    else:\n",
    "        print(\"\\nThis Student not found please Try again!\")\n",
    "\n",
    "def average():\n",
    "    sum=0\n",
    "    for i in student_grade.values():\n",
    "        sum=sum+i\n",
    "        res= len(student_grade)\n",
    "        ave=(sum / res)\n",
    "    print(f\"The Average is: {ave}\") \n",
    "\n",
    "for i in range(5):\n",
    "\n",
    "    answer= input(\"remove or edit or average????\")\n",
    "    if answer ==\"remove\":\n",
    "        remove()\n",
    "    elif answer == \"edit\":\n",
    "        str=input(\"Insert Student Name: \")\n",
    "        edit(str)\n",
    "    elif answer ==\"average\":\n",
    "        average()\n",
    "    elif answer == \"\":\n",
    "        continue\n",
    "    elif answer == \"exit\":\n",
    "        break\n",
    "    else:\n",
    "        print(f\"{answer}: Command Not Found!\")"
   ]
  }
 ],
 "metadata": {
  "kernelspec": {
   "display_name": "Python 3 (ipykernel)",
   "language": "python",
   "name": "python3"
  },
  "language_info": {
   "codemirror_mode": {
    "name": "ipython",
    "version": 3
   },
   "file_extension": ".py",
   "mimetype": "text/x-python",
   "name": "python",
   "nbconvert_exporter": "python",
   "pygments_lexer": "ipython3",
   "version": "3.12.0"
  }
 },
 "nbformat": 4,
 "nbformat_minor": 5
}
